{
 "cells": [
  {
   "cell_type": "code",
   "execution_count": 29,
   "id": "12838f8f",
   "metadata": {},
   "outputs": [],
   "source": [
    "import pandas as pd\n",
    "import numpy as np\n",
    "from sklearn.model_selection import cross_val_score, KFold, GridSearchCV, train_test_split\n",
    "from sklearn.preprocessing import LabelEncoder\n",
    "from sklearn.linear_model import LinearRegression, Ridge, Lasso\n",
    "from sklearn.tree import DecisionTreeRegressor\n",
    "from sklearn.ensemble import RandomForestRegressor\n",
    "from sklearn.svm import SVR\n",
    "from sklearn.metrics import mean_squared_error, mean_absolute_error, r2_score, make_scorer, precision_score, recall_score, accuracy_score\n",
    "from sklearn.impute import SimpleImputer\n",
    "import joblib\n",
    "import matplotlib.pyplot as plt\n",
    "import seaborn as sns"
   ]
  },
  {
   "cell_type": "code",
   "execution_count": 2,
   "id": "2758f35e",
   "metadata": {},
   "outputs": [],
   "source": [
    "# Load the preprocessed data from CSV files\n",
    "dataset = pd.read_csv('../data/updated_preprocessed_dataset1.csv')"
   ]
  },
  {
   "cell_type": "code",
   "execution_count": 3,
   "id": "9dffafca",
   "metadata": {},
   "outputs": [],
   "source": [
    "# Impute missing values in features\n",
    "X_imputer = SimpleImputer(strategy='mean')\n",
    "X_imputed = pd.DataFrame(X_imputer.fit_transform(dataset.drop(['writing_score'], axis=1)), columns=dataset.drop(['writing_score'], axis=1).columns)"
   ]
  },
  {
   "cell_type": "code",
   "execution_count": 4,
   "id": "d81f39d1",
   "metadata": {},
   "outputs": [],
   "source": [
    "# Impute missing values in the target variable\n",
    "y_imputer = SimpleImputer(strategy='mean')\n",
    "y_imputed = pd.DataFrame(y_imputer.fit_transform(dataset['writing_score'].values.reshape(-1, 1)), columns=['writing_score'])\n"
   ]
  },
  {
   "cell_type": "code",
   "execution_count": 5,
   "id": "3e375ba1",
   "metadata": {},
   "outputs": [],
   "source": [
    "# Split the data into training and testing sets\n",
    "X_train, X_test, y_train, y_test = train_test_split(X_imputed, y_imputed['writing_score'], test_size=0.2, random_state=42)\n"
   ]
  },
  {
   "cell_type": "code",
   "execution_count": 6,
   "id": "a155734f",
   "metadata": {},
   "outputs": [],
   "source": [
    "# Initialize models with hyperparameter grids\n",
    "models = {\n",
    "    'Linear Regression': (LinearRegression(), {}),\n",
    "    'Ridge Regression': (Ridge(), {'alpha': [0.01, 0.1, 1.0, 10.0]}),\n",
    "    'Lasso Regression': (Lasso(), {'alpha': [0.01, 0.1, 1.0, 10.0]}),\n",
    "    'Decision Tree Regressor': (DecisionTreeRegressor(), {'max_depth': [None, 10, 20, 30]}),\n",
    "    'Random Forest Regressor': (RandomForestRegressor(), {'n_estimators': [50, 100, 200]}),\n",
    "    'Support Vector Regression': (SVR(), {'C': [0.1, 1, 10], 'kernel': ['linear', 'rbf', 'poly']})\n",
    "}"
   ]
  },
  {
   "cell_type": "code",
   "execution_count": 7,
   "id": "439e72cb",
   "metadata": {},
   "outputs": [],
   "source": [
    "# Initialize the best model and its performance\n",
    "best_model = None\n",
    "best_model_name = None\n",
    "best_mse = float('inf')"
   ]
  },
  {
   "cell_type": "code",
   "execution_count": 30,
   "id": "26f7ff57",
   "metadata": {},
   "outputs": [],
   "source": [
    "# Dictionary to store evaluation metrics\n",
    "evaluation_metrics = {'Model': [], 'Mean Squared Error': [], 'Mean Absolute Error': [], 'R-squared': [],\n",
    "                      'Precision': [], 'Recall': [], 'Accuracy': []}"
   ]
  },
  {
   "cell_type": "code",
   "execution_count": 33,
   "id": "a584d8f1",
   "metadata": {},
   "outputs": [],
   "source": [
    "# Perform hyperparameter tuning and cross-validation for each model\n",
    "for model_name, (model, param_grid) in models.items():\n",
    "    kf = KFold(n_splits=5, shuffle=True, random_state=42)\n",
    "    mse_scorer = make_scorer(mean_squared_error, greater_is_better=False)\n",
    "\n",
    "    # Hyperparameter tuning using GridSearchCV\n",
    "    grid_search = GridSearchCV(model, param_grid, cv=kf, scoring=mse_scorer)\n",
    "    grid_search.fit(X_train, y_train)\n",
    "\n",
    "    # Evaluate the best model using test set\n",
    "    y_pred = grid_search.best_estimator_.predict(X_test)\n",
    "    \n",
    "    # Calculate evaluation metrics\n",
    "    mse = mean_squared_error(y_test, y_pred)\n",
    "    mae = mean_absolute_error(y_test, y_pred)\n",
    "    r_squared = r2_score(y_test, y_pred)\n",
    "\n",
    "    # Store metrics in the dictionary\n",
    "    evaluation_metrics['Model'].append(model_name)\n",
    "    evaluation_metrics['Mean Squared Error'].append(mse)\n",
    "    evaluation_metrics['Mean Absolute Error'].append(mae)\n",
    "    evaluation_metrics['R-squared'].append(r_squared)\n",
    "\n",
    "    # Check if this is the best model so far\n",
    "    if mse < best_mse:\n",
    "        best_mse = mse\n",
    "        best_model = grid_search.best_estimator_\n",
    "        best_model_name = model_name\n"
   ]
  },
  {
   "cell_type": "code",
   "execution_count": 10,
   "id": "3eca4b91",
   "metadata": {},
   "outputs": [
    {
     "data": {
      "text/plain": [
       "['../ml_models/best_student_performance_model1.pkl']"
      ]
     },
     "execution_count": 10,
     "metadata": {},
     "output_type": "execute_result"
    }
   ],
   "source": [
    "# Save the best model\n",
    "joblib.dump(best_model, '../ml_models/best_student_performance_model1.pkl')"
   ]
  },
  {
   "cell_type": "code",
   "execution_count": 11,
   "id": "dbd1bae1",
   "metadata": {},
   "outputs": [
    {
     "name": "stdout",
     "output_type": "stream",
     "text": [
      "Best Model: Random Forest Regressor\n",
      "Mean Squared Error: 21.362620400667666\n"
     ]
    }
   ],
   "source": [
    "# Print the best model and its performance\n",
    "print(f'Best Model: {best_model_name}')\n",
    "print(f'Mean Squared Error: {best_mse}')"
   ]
  },
  {
   "cell_type": "code",
   "execution_count": 12,
   "id": "d471818a",
   "metadata": {},
   "outputs": [],
   "source": [
    "# Create a DataFrame from the evaluation metrics\n",
    "metrics_df = pd.DataFrame(evaluation_metrics)"
   ]
  },
  {
   "cell_type": "code",
   "execution_count": 13,
   "id": "0b32f25c",
   "metadata": {},
   "outputs": [],
   "source": [
    "# Plotting EDA figures\n",
    "# For example, let's create a pairplot for a subset of features\n",
    "subset_features = ['math_score', 'reading_score', 'parental_level_of_education', 'lunch', 'test_preparation_course']\n"
   ]
  },
  {
   "cell_type": "code",
   "execution_count": 27,
   "id": "5f2e9f2c",
   "metadata": {},
   "outputs": [
    {
     "name": "stdout",
     "output_type": "stream",
     "text": [
      "Evaluation Metrics:\n"
     ]
    },
    {
     "data": {
      "text/html": [
       "<div>\n",
       "<style scoped>\n",
       "    .dataframe tbody tr th:only-of-type {\n",
       "        vertical-align: middle;\n",
       "    }\n",
       "\n",
       "    .dataframe tbody tr th {\n",
       "        vertical-align: top;\n",
       "    }\n",
       "\n",
       "    .dataframe thead th {\n",
       "        text-align: right;\n",
       "    }\n",
       "</style>\n",
       "<table border=\"1\" class=\"dataframe\">\n",
       "  <thead>\n",
       "    <tr style=\"text-align: right;\">\n",
       "      <th></th>\n",
       "      <th>Model</th>\n",
       "      <th>Mean Squared Error</th>\n",
       "      <th>Mean Absolute Error</th>\n",
       "      <th>R-squared</th>\n",
       "    </tr>\n",
       "  </thead>\n",
       "  <tbody>\n",
       "    <tr>\n",
       "      <th>0</th>\n",
       "      <td>Linear Regression</td>\n",
       "      <td>21.802868</td>\n",
       "      <td>3.454032</td>\n",
       "      <td>0.920979</td>\n",
       "    </tr>\n",
       "    <tr>\n",
       "      <th>1</th>\n",
       "      <td>Ridge Regression</td>\n",
       "      <td>21.796242</td>\n",
       "      <td>3.453290</td>\n",
       "      <td>0.921003</td>\n",
       "    </tr>\n",
       "    <tr>\n",
       "      <th>2</th>\n",
       "      <td>Lasso Regression</td>\n",
       "      <td>21.780073</td>\n",
       "      <td>3.448322</td>\n",
       "      <td>0.921062</td>\n",
       "    </tr>\n",
       "    <tr>\n",
       "      <th>3</th>\n",
       "      <td>Decision Tree Regressor</td>\n",
       "      <td>33.024952</td>\n",
       "      <td>4.529975</td>\n",
       "      <td>0.880307</td>\n",
       "    </tr>\n",
       "    <tr>\n",
       "      <th>4</th>\n",
       "      <td>Random Forest Regressor</td>\n",
       "      <td>21.362620</td>\n",
       "      <td>3.615986</td>\n",
       "      <td>0.922575</td>\n",
       "    </tr>\n",
       "    <tr>\n",
       "      <th>5</th>\n",
       "      <td>Support Vector Regression</td>\n",
       "      <td>21.940578</td>\n",
       "      <td>3.411622</td>\n",
       "      <td>0.920480</td>\n",
       "    </tr>\n",
       "  </tbody>\n",
       "</table>\n",
       "</div>"
      ],
      "text/plain": [
       "                       Model  Mean Squared Error  Mean Absolute Error  \\\n",
       "0          Linear Regression           21.802868             3.454032   \n",
       "1           Ridge Regression           21.796242             3.453290   \n",
       "2           Lasso Regression           21.780073             3.448322   \n",
       "3    Decision Tree Regressor           33.024952             4.529975   \n",
       "4    Random Forest Regressor           21.362620             3.615986   \n",
       "5  Support Vector Regression           21.940578             3.411622   \n",
       "\n",
       "   R-squared  \n",
       "0   0.920979  \n",
       "1   0.921003  \n",
       "2   0.921062  \n",
       "3   0.880307  \n",
       "4   0.922575  \n",
       "5   0.920480  "
      ]
     },
     "execution_count": 27,
     "metadata": {},
     "output_type": "execute_result"
    }
   ],
   "source": [
    "# Display the evaluation metrics\n",
    "print(\"Evaluation Metrics:\")\n",
    "metrics_df"
   ]
  },
  {
   "cell_type": "code",
   "execution_count": 28,
   "id": "aff08fee",
   "metadata": {},
   "outputs": [
    {
     "name": "stdout",
     "output_type": "stream",
     "text": [
      "Best Model Name\n"
     ]
    },
    {
     "data": {
      "text/plain": [
       "'Random Forest Regressor'"
      ]
     },
     "execution_count": 28,
     "metadata": {},
     "output_type": "execute_result"
    }
   ],
   "source": [
    "print(\"Best Model Name\")\n",
    "best_model_name"
   ]
  },
  {
   "cell_type": "code",
   "execution_count": 19,
   "id": "9dfea9f9",
   "metadata": {},
   "outputs": [
    {
     "data": {
      "image/png": "[encoded data removed]",
      "text/plain": [
       "<Figure size 1080x432 with 1 Axes>"
      ]
     },
     "metadata": {
      "needs_background": "light"
     },
     "output_type": "display_data"
    }
   ],
   "source": [
    "# Plot a bar chart for Mean Squared Error\n",
    "plt.figure(figsize=(15, 6))\n",
    "sns.barplot(x='Model', y='Mean Squared Error', data=metrics_df)\n",
    "plt.title('Mean Squared Error Comparison')\n",
    "plt.show()"
   ]
  },
  {
   "cell_type": "code",
   "execution_count": 21,
   "id": "03677cd7",
   "metadata": {},
   "outputs": [
    {
     "data": {
      "image/png": "[encoded data removed]",
      "text/plain": [
       "<Figure size 1080x432 with 1 Axes>"
      ]
     },
     "metadata": {
      "needs_background": "light"
     },
     "output_type": "display_data"
    }
   ],
   "source": [
    "# Plot a bar chart for Mean Absolute Error\n",
    "plt.figure(figsize=(15, 6))\n",
    "sns.barplot(x='Model', y='Mean Absolute Error', data=metrics_df)\n",
    "plt.title('Mean Absolute Error Comparison')\n",
    "plt.show()"
   ]
  },
  {
   "cell_type": "code",
   "execution_count": 22,
   "id": "2a0d4986",
   "metadata": {},
   "outputs": [
    {
     "data": {
      "image/png": "[encoded data removed]",
      "text/plain": [
       "<Figure size 1080x432 with 1 Axes>"
      ]
     },
     "metadata": {
      "needs_background": "light"
     },
     "output_type": "display_data"
    }
   ],
   "source": [
    "# Plot a bar chart for R-squared\n",
    "plt.figure(figsize=(15, 6))\n",
    "sns.barplot(x='Model', y='R-squared', data=metrics_df)\n",
    "plt.title('R-squared Comparison')\n",
    "plt.show()"
   ]
  },
  {
   "cell_type": "code",
   "execution_count": null,
   "id": "582236b5",
   "metadata": {},
   "outputs": [],
   "source": []
  }
 ],
 "metadata": {
  "kernelspec": {
   "display_name": "Python 3 (ipykernel)",
   "language": "python",
   "name": "python3"
  },
  "language_info": {
   "codemirror_mode": {
    "name": "ipython",
    "version": 3
   },
   "file_extension": ".py",
   "mimetype": "text/x-python",
   "name": "python",
   "nbconvert_exporter": "python",
   "pygments_lexer": "ipython3",
   "version": "3.9.7"
  }
 },
 "nbformat": 4,
 "nbformat_minor": 5
}
